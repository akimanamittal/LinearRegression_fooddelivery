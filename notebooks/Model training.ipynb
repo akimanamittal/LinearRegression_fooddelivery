{
 "cells": [
  {
   "cell_type": "code",
   "execution_count": 43,
   "metadata": {},
   "outputs": [],
   "source": [
    "import pandas as pd"
   ]
  },
  {
   "cell_type": "code",
   "execution_count": 44,
   "metadata": {},
   "outputs": [
    {
     "data": {
      "text/html": [
       "<div>\n",
       "<style scoped>\n",
       "    .dataframe tbody tr th:only-of-type {\n",
       "        vertical-align: middle;\n",
       "    }\n",
       "\n",
       "    .dataframe tbody tr th {\n",
       "        vertical-align: top;\n",
       "    }\n",
       "\n",
       "    .dataframe thead th {\n",
       "        text-align: right;\n",
       "    }\n",
       "</style>\n",
       "<table border=\"1\" class=\"dataframe\">\n",
       "  <thead>\n",
       "    <tr style=\"text-align: right;\">\n",
       "      <th></th>\n",
       "      <th>Delivery_person_ID</th>\n",
       "      <th>Delivery_person_Age</th>\n",
       "      <th>Delivery_person_Ratings</th>\n",
       "      <th>Delivery_distance(Km)</th>\n",
       "      <th>Time_Ordered(in mins)</th>\n",
       "      <th>Time_order_picked(in mins)</th>\n",
       "      <th>Time_diff(order-picked)(in mins)</th>\n",
       "      <th>Weather_conditions</th>\n",
       "      <th>Road_traffic_density</th>\n",
       "      <th>Vehicle_condition</th>\n",
       "      <th>Type_of_order</th>\n",
       "      <th>Type_of_vehicle</th>\n",
       "      <th>multiple_deliveries</th>\n",
       "      <th>Festival</th>\n",
       "      <th>City</th>\n",
       "      <th>Order_Date(year)</th>\n",
       "      <th>Order_Date(month)</th>\n",
       "      <th>Order_Date(day)</th>\n",
       "      <th>Time_taken (min)</th>\n",
       "    </tr>\n",
       "  </thead>\n",
       "  <tbody>\n",
       "    <tr>\n",
       "      <th>0</th>\n",
       "      <td>DEHRES17DEL01</td>\n",
       "      <td>36.0</td>\n",
       "      <td>4.2</td>\n",
       "      <td>10.271464</td>\n",
       "      <td>1315</td>\n",
       "      <td>1330</td>\n",
       "      <td>15</td>\n",
       "      <td>Fog</td>\n",
       "      <td>Jam</td>\n",
       "      <td>2</td>\n",
       "      <td>Snack</td>\n",
       "      <td>motorcycle</td>\n",
       "      <td>3.0</td>\n",
       "      <td>No</td>\n",
       "      <td>Metropolitian</td>\n",
       "      <td>2022</td>\n",
       "      <td>2</td>\n",
       "      <td>12</td>\n",
       "      <td>46</td>\n",
       "    </tr>\n",
       "    <tr>\n",
       "      <th>1</th>\n",
       "      <td>KOCRES16DEL01</td>\n",
       "      <td>21.0</td>\n",
       "      <td>4.7</td>\n",
       "      <td>6.229376</td>\n",
       "      <td>895</td>\n",
       "      <td>905</td>\n",
       "      <td>10</td>\n",
       "      <td>Stormy</td>\n",
       "      <td>High</td>\n",
       "      <td>1</td>\n",
       "      <td>Meal</td>\n",
       "      <td>motorcycle</td>\n",
       "      <td>1.0</td>\n",
       "      <td>No</td>\n",
       "      <td>Metropolitian</td>\n",
       "      <td>2022</td>\n",
       "      <td>2</td>\n",
       "      <td>13</td>\n",
       "      <td>23</td>\n",
       "    </tr>\n",
       "    <tr>\n",
       "      <th>2</th>\n",
       "      <td>PUNERES13DEL03</td>\n",
       "      <td>23.0</td>\n",
       "      <td>4.7</td>\n",
       "      <td>13.764306</td>\n",
       "      <td>1050</td>\n",
       "      <td>1060</td>\n",
       "      <td>10</td>\n",
       "      <td>Sandstorms</td>\n",
       "      <td>Medium</td>\n",
       "      <td>1</td>\n",
       "      <td>Drinks</td>\n",
       "      <td>scooter</td>\n",
       "      <td>1.0</td>\n",
       "      <td>No</td>\n",
       "      <td>Metropolitian</td>\n",
       "      <td>2022</td>\n",
       "      <td>3</td>\n",
       "      <td>4</td>\n",
       "      <td>21</td>\n",
       "    </tr>\n",
       "    <tr>\n",
       "      <th>3</th>\n",
       "      <td>LUDHRES15DEL02</td>\n",
       "      <td>34.0</td>\n",
       "      <td>4.3</td>\n",
       "      <td>2.927795</td>\n",
       "      <td>560</td>\n",
       "      <td>570</td>\n",
       "      <td>10</td>\n",
       "      <td>Sandstorms</td>\n",
       "      <td>Low</td>\n",
       "      <td>0</td>\n",
       "      <td>Buffet</td>\n",
       "      <td>motorcycle</td>\n",
       "      <td>0.0</td>\n",
       "      <td>No</td>\n",
       "      <td>Metropolitian</td>\n",
       "      <td>2022</td>\n",
       "      <td>2</td>\n",
       "      <td>13</td>\n",
       "      <td>20</td>\n",
       "    </tr>\n",
       "    <tr>\n",
       "      <th>4</th>\n",
       "      <td>KNPRES14DEL02</td>\n",
       "      <td>24.0</td>\n",
       "      <td>4.7</td>\n",
       "      <td>19.373484</td>\n",
       "      <td>1190</td>\n",
       "      <td>1205</td>\n",
       "      <td>15</td>\n",
       "      <td>Fog</td>\n",
       "      <td>Jam</td>\n",
       "      <td>1</td>\n",
       "      <td>Snack</td>\n",
       "      <td>scooter</td>\n",
       "      <td>1.0</td>\n",
       "      <td>No</td>\n",
       "      <td>Metropolitian</td>\n",
       "      <td>2022</td>\n",
       "      <td>2</td>\n",
       "      <td>14</td>\n",
       "      <td>41</td>\n",
       "    </tr>\n",
       "  </tbody>\n",
       "</table>\n",
       "</div>"
      ],
      "text/plain": [
       "  Delivery_person_ID  Delivery_person_Age  Delivery_person_Ratings   \n",
       "0      DEHRES17DEL01                 36.0                      4.2  \\\n",
       "1      KOCRES16DEL01                 21.0                      4.7   \n",
       "2     PUNERES13DEL03                 23.0                      4.7   \n",
       "3     LUDHRES15DEL02                 34.0                      4.3   \n",
       "4      KNPRES14DEL02                 24.0                      4.7   \n",
       "\n",
       "   Delivery_distance(Km)  Time_Ordered(in mins)  Time_order_picked(in mins)   \n",
       "0              10.271464                   1315                        1330  \\\n",
       "1               6.229376                    895                         905   \n",
       "2              13.764306                   1050                        1060   \n",
       "3               2.927795                    560                         570   \n",
       "4              19.373484                   1190                        1205   \n",
       "\n",
       "   Time_diff(order-picked)(in mins) Weather_conditions Road_traffic_density   \n",
       "0                                15                Fog                  Jam  \\\n",
       "1                                10             Stormy                 High   \n",
       "2                                10         Sandstorms               Medium   \n",
       "3                                10         Sandstorms                  Low   \n",
       "4                                15                Fog                  Jam   \n",
       "\n",
       "   Vehicle_condition Type_of_order Type_of_vehicle  multiple_deliveries   \n",
       "0                  2         Snack      motorcycle                  3.0  \\\n",
       "1                  1          Meal      motorcycle                  1.0   \n",
       "2                  1        Drinks         scooter                  1.0   \n",
       "3                  0        Buffet      motorcycle                  0.0   \n",
       "4                  1         Snack         scooter                  1.0   \n",
       "\n",
       "  Festival           City  Order_Date(year)  Order_Date(month)   \n",
       "0       No  Metropolitian              2022                  2  \\\n",
       "1       No  Metropolitian              2022                  2   \n",
       "2       No  Metropolitian              2022                  3   \n",
       "3       No  Metropolitian              2022                  2   \n",
       "4       No  Metropolitian              2022                  2   \n",
       "\n",
       "   Order_Date(day)  Time_taken (min)  \n",
       "0               12                46  \n",
       "1               13                23  \n",
       "2                4                21  \n",
       "3               13                20  \n",
       "4               14                41  "
      ]
     },
     "execution_count": 44,
     "metadata": {},
     "output_type": "execute_result"
    }
   ],
   "source": [
    "df=pd.read_csv('//config/workspace/notebooks/clean_food_delivery_data.csv')\n",
    "df.head()"
   ]
  },
  {
   "cell_type": "code",
   "execution_count": 45,
   "metadata": {},
   "outputs": [],
   "source": [
    "#Independent and Dependent features\n",
    "X=df.drop(labels=['Time_taken (min)','Delivery_person_ID','Order_Date(year)','Order_Date(month)','Order_Date(day)','Time_Ordered(in mins)','Time_order_picked(in mins)'],axis=1)\n",
    "Y=df[['Time_taken (min)']]"
   ]
  },
  {
   "cell_type": "code",
   "execution_count": 4,
   "metadata": {},
   "outputs": [
    {
     "data": {
      "text/html": [
       "<div>\n",
       "<style scoped>\n",
       "    .dataframe tbody tr th:only-of-type {\n",
       "        vertical-align: middle;\n",
       "    }\n",
       "\n",
       "    .dataframe tbody tr th {\n",
       "        vertical-align: top;\n",
       "    }\n",
       "\n",
       "    .dataframe thead th {\n",
       "        text-align: right;\n",
       "    }\n",
       "</style>\n",
       "<table border=\"1\" class=\"dataframe\">\n",
       "  <thead>\n",
       "    <tr style=\"text-align: right;\">\n",
       "      <th></th>\n",
       "      <th>Delivery_person_Age</th>\n",
       "      <th>Delivery_person_Ratings</th>\n",
       "      <th>Delivery_distance(Km)</th>\n",
       "      <th>Time_Ordered(in mins)</th>\n",
       "      <th>Time_order_picked(in mins)</th>\n",
       "      <th>Time_diff(order-picked)(in mins)</th>\n",
       "      <th>Weather_conditions</th>\n",
       "      <th>Road_traffic_density</th>\n",
       "      <th>Vehicle_condition</th>\n",
       "      <th>Type_of_order</th>\n",
       "      <th>Type_of_vehicle</th>\n",
       "      <th>multiple_deliveries</th>\n",
       "      <th>Festival</th>\n",
       "      <th>City</th>\n",
       "      <th>Order_Date(year)</th>\n",
       "      <th>Order_Date(month)</th>\n",
       "      <th>Order_Date(day)</th>\n",
       "    </tr>\n",
       "  </thead>\n",
       "  <tbody>\n",
       "    <tr>\n",
       "      <th>0</th>\n",
       "      <td>36.0</td>\n",
       "      <td>4.2</td>\n",
       "      <td>10.271464</td>\n",
       "      <td>1315</td>\n",
       "      <td>1330</td>\n",
       "      <td>15</td>\n",
       "      <td>Fog</td>\n",
       "      <td>Jam</td>\n",
       "      <td>2</td>\n",
       "      <td>Snack</td>\n",
       "      <td>motorcycle</td>\n",
       "      <td>3.0</td>\n",
       "      <td>No</td>\n",
       "      <td>Metropolitian</td>\n",
       "      <td>2022</td>\n",
       "      <td>2</td>\n",
       "      <td>12</td>\n",
       "    </tr>\n",
       "    <tr>\n",
       "      <th>1</th>\n",
       "      <td>21.0</td>\n",
       "      <td>4.7</td>\n",
       "      <td>6.229376</td>\n",
       "      <td>895</td>\n",
       "      <td>905</td>\n",
       "      <td>10</td>\n",
       "      <td>Stormy</td>\n",
       "      <td>High</td>\n",
       "      <td>1</td>\n",
       "      <td>Meal</td>\n",
       "      <td>motorcycle</td>\n",
       "      <td>1.0</td>\n",
       "      <td>No</td>\n",
       "      <td>Metropolitian</td>\n",
       "      <td>2022</td>\n",
       "      <td>2</td>\n",
       "      <td>13</td>\n",
       "    </tr>\n",
       "    <tr>\n",
       "      <th>2</th>\n",
       "      <td>23.0</td>\n",
       "      <td>4.7</td>\n",
       "      <td>13.764306</td>\n",
       "      <td>1050</td>\n",
       "      <td>1060</td>\n",
       "      <td>10</td>\n",
       "      <td>Sandstorms</td>\n",
       "      <td>Medium</td>\n",
       "      <td>1</td>\n",
       "      <td>Drinks</td>\n",
       "      <td>scooter</td>\n",
       "      <td>1.0</td>\n",
       "      <td>No</td>\n",
       "      <td>Metropolitian</td>\n",
       "      <td>2022</td>\n",
       "      <td>3</td>\n",
       "      <td>4</td>\n",
       "    </tr>\n",
       "    <tr>\n",
       "      <th>3</th>\n",
       "      <td>34.0</td>\n",
       "      <td>4.3</td>\n",
       "      <td>2.927795</td>\n",
       "      <td>560</td>\n",
       "      <td>570</td>\n",
       "      <td>10</td>\n",
       "      <td>Sandstorms</td>\n",
       "      <td>Low</td>\n",
       "      <td>0</td>\n",
       "      <td>Buffet</td>\n",
       "      <td>motorcycle</td>\n",
       "      <td>0.0</td>\n",
       "      <td>No</td>\n",
       "      <td>Metropolitian</td>\n",
       "      <td>2022</td>\n",
       "      <td>2</td>\n",
       "      <td>13</td>\n",
       "    </tr>\n",
       "    <tr>\n",
       "      <th>4</th>\n",
       "      <td>24.0</td>\n",
       "      <td>4.7</td>\n",
       "      <td>19.373484</td>\n",
       "      <td>1190</td>\n",
       "      <td>1205</td>\n",
       "      <td>15</td>\n",
       "      <td>Fog</td>\n",
       "      <td>Jam</td>\n",
       "      <td>1</td>\n",
       "      <td>Snack</td>\n",
       "      <td>scooter</td>\n",
       "      <td>1.0</td>\n",
       "      <td>No</td>\n",
       "      <td>Metropolitian</td>\n",
       "      <td>2022</td>\n",
       "      <td>2</td>\n",
       "      <td>14</td>\n",
       "    </tr>\n",
       "  </tbody>\n",
       "</table>\n",
       "</div>"
      ],
      "text/plain": [
       "   Delivery_person_Age  Delivery_person_Ratings  Delivery_distance(Km)   \n",
       "0                 36.0                      4.2              10.271464  \\\n",
       "1                 21.0                      4.7               6.229376   \n",
       "2                 23.0                      4.7              13.764306   \n",
       "3                 34.0                      4.3               2.927795   \n",
       "4                 24.0                      4.7              19.373484   \n",
       "\n",
       "   Time_Ordered(in mins)  Time_order_picked(in mins)   \n",
       "0                   1315                        1330  \\\n",
       "1                    895                         905   \n",
       "2                   1050                        1060   \n",
       "3                    560                         570   \n",
       "4                   1190                        1205   \n",
       "\n",
       "   Time_diff(order-picked)(in mins) Weather_conditions Road_traffic_density   \n",
       "0                                15                Fog                  Jam  \\\n",
       "1                                10             Stormy                 High   \n",
       "2                                10         Sandstorms               Medium   \n",
       "3                                10         Sandstorms                  Low   \n",
       "4                                15                Fog                  Jam   \n",
       "\n",
       "   Vehicle_condition Type_of_order Type_of_vehicle  multiple_deliveries   \n",
       "0                  2         Snack      motorcycle                  3.0  \\\n",
       "1                  1          Meal      motorcycle                  1.0   \n",
       "2                  1        Drinks         scooter                  1.0   \n",
       "3                  0        Buffet      motorcycle                  0.0   \n",
       "4                  1         Snack         scooter                  1.0   \n",
       "\n",
       "  Festival           City  Order_Date(year)  Order_Date(month)   \n",
       "0       No  Metropolitian              2022                  2  \\\n",
       "1       No  Metropolitian              2022                  2   \n",
       "2       No  Metropolitian              2022                  3   \n",
       "3       No  Metropolitian              2022                  2   \n",
       "4       No  Metropolitian              2022                  2   \n",
       "\n",
       "   Order_Date(day)  \n",
       "0               12  \n",
       "1               13  \n",
       "2                4  \n",
       "3               13  \n",
       "4               14  "
      ]
     },
     "execution_count": 4,
     "metadata": {},
     "output_type": "execute_result"
    }
   ],
   "source": [
    "X.head()"
   ]
  },
  {
   "cell_type": "code",
   "execution_count": 5,
   "metadata": {},
   "outputs": [
    {
     "data": {
      "text/html": [
       "<div>\n",
       "<style scoped>\n",
       "    .dataframe tbody tr th:only-of-type {\n",
       "        vertical-align: middle;\n",
       "    }\n",
       "\n",
       "    .dataframe tbody tr th {\n",
       "        vertical-align: top;\n",
       "    }\n",
       "\n",
       "    .dataframe thead th {\n",
       "        text-align: right;\n",
       "    }\n",
       "</style>\n",
       "<table border=\"1\" class=\"dataframe\">\n",
       "  <thead>\n",
       "    <tr style=\"text-align: right;\">\n",
       "      <th></th>\n",
       "      <th>Time_taken (min)</th>\n",
       "    </tr>\n",
       "  </thead>\n",
       "  <tbody>\n",
       "    <tr>\n",
       "      <th>0</th>\n",
       "      <td>46</td>\n",
       "    </tr>\n",
       "    <tr>\n",
       "      <th>1</th>\n",
       "      <td>23</td>\n",
       "    </tr>\n",
       "    <tr>\n",
       "      <th>2</th>\n",
       "      <td>21</td>\n",
       "    </tr>\n",
       "    <tr>\n",
       "      <th>3</th>\n",
       "      <td>20</td>\n",
       "    </tr>\n",
       "    <tr>\n",
       "      <th>4</th>\n",
       "      <td>41</td>\n",
       "    </tr>\n",
       "  </tbody>\n",
       "</table>\n",
       "</div>"
      ],
      "text/plain": [
       "   Time_taken (min)\n",
       "0                46\n",
       "1                23\n",
       "2                21\n",
       "3                20\n",
       "4                41"
      ]
     },
     "execution_count": 5,
     "metadata": {},
     "output_type": "execute_result"
    }
   ],
   "source": [
    "Y.head()"
   ]
  },
  {
   "cell_type": "code",
   "execution_count": 46,
   "metadata": {},
   "outputs": [],
   "source": [
    "numerical_cols = [feature for feature in X.columns if df[feature].dtype != 'O']\n",
    "categorical_cols = [feature for feature in X.columns if df[feature].dtype == 'O']"
   ]
  },
  {
   "cell_type": "code",
   "execution_count": 47,
   "metadata": {},
   "outputs": [
    {
     "data": {
      "text/plain": [
       "['Delivery_person_Age',\n",
       " 'Delivery_person_Ratings',\n",
       " 'Delivery_distance(Km)',\n",
       " 'Time_diff(order-picked)(in mins)',\n",
       " 'Vehicle_condition',\n",
       " 'multiple_deliveries']"
      ]
     },
     "execution_count": 47,
     "metadata": {},
     "output_type": "execute_result"
    }
   ],
   "source": [
    "numerical_cols"
   ]
  },
  {
   "cell_type": "code",
   "execution_count": 48,
   "metadata": {},
   "outputs": [
    {
     "data": {
      "text/plain": [
       "['Weather_conditions',\n",
       " 'Road_traffic_density',\n",
       " 'Type_of_order',\n",
       " 'Type_of_vehicle',\n",
       " 'Festival',\n",
       " 'City']"
      ]
     },
     "execution_count": 48,
     "metadata": {},
     "output_type": "execute_result"
    }
   ],
   "source": [
    "categorical_cols"
   ]
  },
  {
   "cell_type": "code",
   "execution_count": 49,
   "metadata": {},
   "outputs": [
    {
     "data": {
      "text/plain": [
       "array(['Fog', 'Stormy', 'Sandstorms', 'Windy', 'Cloudy', 'Sunny', nan],\n",
       "      dtype=object)"
      ]
     },
     "execution_count": 49,
     "metadata": {},
     "output_type": "execute_result"
    }
   ],
   "source": [
    "df['Weather_conditions'].unique()"
   ]
  },
  {
   "cell_type": "code",
   "execution_count": 19,
   "metadata": {},
   "outputs": [
    {
     "data": {
      "text/plain": [
       "array(['Jam', 'High', 'Medium', 'Low', nan], dtype=object)"
      ]
     },
     "execution_count": 19,
     "metadata": {},
     "output_type": "execute_result"
    }
   ],
   "source": [
    "df['Road_traffic_density'].unique()"
   ]
  },
  {
   "cell_type": "code",
   "execution_count": 20,
   "metadata": {},
   "outputs": [
    {
     "data": {
      "text/plain": [
       "array(['Snack', 'Meal', 'Drinks', 'Buffet'], dtype=object)"
      ]
     },
     "execution_count": 20,
     "metadata": {},
     "output_type": "execute_result"
    }
   ],
   "source": [
    "df['Type_of_order'].unique()"
   ]
  },
  {
   "cell_type": "code",
   "execution_count": 21,
   "metadata": {},
   "outputs": [
    {
     "data": {
      "text/plain": [
       "array(['motorcycle', 'scooter', 'electric_scooter', 'bicycle'],\n",
       "      dtype=object)"
      ]
     },
     "execution_count": 21,
     "metadata": {},
     "output_type": "execute_result"
    }
   ],
   "source": [
    "df['Type_of_vehicle'].unique()"
   ]
  },
  {
   "cell_type": "code",
   "execution_count": 22,
   "metadata": {},
   "outputs": [
    {
     "data": {
      "text/plain": [
       "array(['No', 'Yes', nan], dtype=object)"
      ]
     },
     "execution_count": 22,
     "metadata": {},
     "output_type": "execute_result"
    }
   ],
   "source": [
    "df['Festival'].unique()"
   ]
  },
  {
   "cell_type": "code",
   "execution_count": 23,
   "metadata": {},
   "outputs": [
    {
     "data": {
      "text/plain": [
       "array(['Metropolitian', 'Urban', 'Semi-Urban', nan], dtype=object)"
      ]
     },
     "execution_count": 23,
     "metadata": {},
     "output_type": "execute_result"
    }
   ],
   "source": [
    "df['City'].unique()"
   ]
  },
  {
   "cell_type": "code",
   "execution_count": 50,
   "metadata": {},
   "outputs": [],
   "source": [
    "Weather_condition_cat=['Sandstorms','Windy','Fog','Stormy','Cloudy','Sunny']\n",
    "Road_traffic_cat=['Jam','High','Medium','Low']\n",
    "Type_oforder_cat=['Buffet','Meal','Snack','Drinks']\n",
    "Type_ofvehicle_cat=['bicycle','electric_scooter','scooter','motorcycle']\n",
    "Festival_cat=['Yes','No']\n",
    "City_cat=['Metropolitian','Semi-Urban','Urban']"
   ]
  },
  {
   "cell_type": "code",
   "execution_count": 51,
   "metadata": {},
   "outputs": [],
   "source": [
    "from sklearn.impute import SimpleImputer   ##handling missing values\n",
    "from sklearn.preprocessing import StandardScaler  ##handling feature scaling\n",
    "from sklearn.preprocessing import OrdinalEncoder  ##ordinal Encoding - used when we have ranking data --incase of categorical data\n",
    "\n",
    "##pipelines\n",
    "from sklearn.pipeline import Pipeline\n",
    "from sklearn.compose import ColumnTransformer"
   ]
  },
  {
   "cell_type": "code",
   "execution_count": 52,
   "metadata": {},
   "outputs": [],
   "source": [
    "##Numerical pipeline\n",
    "num_pipeline=Pipeline(\n",
    "    steps = [\n",
    "        ('scaler',StandardScaler())\n",
    "\n",
    "    ])\n",
    "\n",
    "##categorical pipeline\n",
    "cat_pipeline=Pipeline(\n",
    "    steps = [\n",
    "        ('imputer',SimpleImputer(strategy='most_frequent')),\n",
    "        ('ordinalencoder',OrdinalEncoder(categories=[Weather_condition_cat,Road_traffic_cat,Type_oforder_cat,Type_ofvehicle_cat,Festival_cat,City_cat])),\n",
    "        ('scaler',StandardScaler())\n",
    "    ]\n",
    ")"
   ]
  },
  {
   "cell_type": "code",
   "execution_count": 53,
   "metadata": {},
   "outputs": [],
   "source": [
    "preprocessor=ColumnTransformer([\n",
    "    ('num_pipeline',num_pipeline,numerical_cols),\n",
    "    ('cat_pipeline',cat_pipeline,categorical_cols)\n",
    "])"
   ]
  },
  {
   "cell_type": "code",
   "execution_count": 19,
   "metadata": {},
   "outputs": [
    {
     "data": {
      "text/html": [
       "<style>#sk-container-id-1 {color: black;background-color: white;}#sk-container-id-1 pre{padding: 0;}#sk-container-id-1 div.sk-toggleable {background-color: white;}#sk-container-id-1 label.sk-toggleable__label {cursor: pointer;display: block;width: 100%;margin-bottom: 0;padding: 0.3em;box-sizing: border-box;text-align: center;}#sk-container-id-1 label.sk-toggleable__label-arrow:before {content: \"▸\";float: left;margin-right: 0.25em;color: #696969;}#sk-container-id-1 label.sk-toggleable__label-arrow:hover:before {color: black;}#sk-container-id-1 div.sk-estimator:hover label.sk-toggleable__label-arrow:before {color: black;}#sk-container-id-1 div.sk-toggleable__content {max-height: 0;max-width: 0;overflow: hidden;text-align: left;background-color: #f0f8ff;}#sk-container-id-1 div.sk-toggleable__content pre {margin: 0.2em;color: black;border-radius: 0.25em;background-color: #f0f8ff;}#sk-container-id-1 input.sk-toggleable__control:checked~div.sk-toggleable__content {max-height: 200px;max-width: 100%;overflow: auto;}#sk-container-id-1 input.sk-toggleable__control:checked~label.sk-toggleable__label-arrow:before {content: \"▾\";}#sk-container-id-1 div.sk-estimator input.sk-toggleable__control:checked~label.sk-toggleable__label {background-color: #d4ebff;}#sk-container-id-1 div.sk-label input.sk-toggleable__control:checked~label.sk-toggleable__label {background-color: #d4ebff;}#sk-container-id-1 input.sk-hidden--visually {border: 0;clip: rect(1px 1px 1px 1px);clip: rect(1px, 1px, 1px, 1px);height: 1px;margin: -1px;overflow: hidden;padding: 0;position: absolute;width: 1px;}#sk-container-id-1 div.sk-estimator {font-family: monospace;background-color: #f0f8ff;border: 1px dotted black;border-radius: 0.25em;box-sizing: border-box;margin-bottom: 0.5em;}#sk-container-id-1 div.sk-estimator:hover {background-color: #d4ebff;}#sk-container-id-1 div.sk-parallel-item::after {content: \"\";width: 100%;border-bottom: 1px solid gray;flex-grow: 1;}#sk-container-id-1 div.sk-label:hover label.sk-toggleable__label {background-color: #d4ebff;}#sk-container-id-1 div.sk-serial::before {content: \"\";position: absolute;border-left: 1px solid gray;box-sizing: border-box;top: 0;bottom: 0;left: 50%;z-index: 0;}#sk-container-id-1 div.sk-serial {display: flex;flex-direction: column;align-items: center;background-color: white;padding-right: 0.2em;padding-left: 0.2em;position: relative;}#sk-container-id-1 div.sk-item {position: relative;z-index: 1;}#sk-container-id-1 div.sk-parallel {display: flex;align-items: stretch;justify-content: center;background-color: white;position: relative;}#sk-container-id-1 div.sk-item::before, #sk-container-id-1 div.sk-parallel-item::before {content: \"\";position: absolute;border-left: 1px solid gray;box-sizing: border-box;top: 0;bottom: 0;left: 50%;z-index: -1;}#sk-container-id-1 div.sk-parallel-item {display: flex;flex-direction: column;z-index: 1;position: relative;background-color: white;}#sk-container-id-1 div.sk-parallel-item:first-child::after {align-self: flex-end;width: 50%;}#sk-container-id-1 div.sk-parallel-item:last-child::after {align-self: flex-start;width: 50%;}#sk-container-id-1 div.sk-parallel-item:only-child::after {width: 0;}#sk-container-id-1 div.sk-dashed-wrapped {border: 1px dashed gray;margin: 0 0.4em 0.5em 0.4em;box-sizing: border-box;padding-bottom: 0.4em;background-color: white;}#sk-container-id-1 div.sk-label label {font-family: monospace;font-weight: bold;display: inline-block;line-height: 1.2em;}#sk-container-id-1 div.sk-label-container {text-align: center;}#sk-container-id-1 div.sk-container {/* jupyter's `normalize.less` sets `[hidden] { display: none; }` but bootstrap.min.css set `[hidden] { display: none !important; }` so we also need the `!important` here to be able to override the default hidden behavior on the sphinx rendered scikit-learn.org. See: https://github.com/scikit-learn/scikit-learn/issues/21755 */display: inline-block !important;position: relative;}#sk-container-id-1 div.sk-text-repr-fallback {display: none;}</style><div id=\"sk-container-id-1\" class=\"sk-top-container\"><div class=\"sk-text-repr-fallback\"><pre>ColumnTransformer(transformers=[(&#x27;num_pipeline&#x27;,\n",
       "                                 Pipeline(steps=[(&#x27;scaler&#x27;, StandardScaler())]),\n",
       "                                 [&#x27;Delivery_person_Age&#x27;,\n",
       "                                  &#x27;Delivery_person_Ratings&#x27;,\n",
       "                                  &#x27;Delivery_distance(Km)&#x27;,\n",
       "                                  &#x27;Time_Ordered(in mins)&#x27;,\n",
       "                                  &#x27;Time_order_picked(in mins)&#x27;,\n",
       "                                  &#x27;Time_diff(order-picked)(in mins)&#x27;,\n",
       "                                  &#x27;Vehicle_condition&#x27;, &#x27;multiple_deliveries&#x27;,\n",
       "                                  &#x27;Order_Date(year)&#x27;, &#x27;Order_Date(month)&#x27;,\n",
       "                                  &#x27;Order_Date(day)&#x27;...\n",
       "                                                  OrdinalEncoder(categories=[[&#x27;Sandstorms&#x27;,\n",
       "                                                                              &#x27;Windy&#x27;,\n",
       "                                                                              &#x27;Fog&#x27;,\n",
       "                                                                              &#x27;Stormy&#x27;,\n",
       "                                                                              &#x27;Cloudy&#x27;,\n",
       "                                                                              &#x27;Sunny&#x27;],\n",
       "                                                                             [&#x27;Jam&#x27;,\n",
       "                                                                              &#x27;High&#x27;,\n",
       "                                                                              &#x27;Medium&#x27;,\n",
       "                                                                              &#x27;Low&#x27;],\n",
       "                                                                             [&#x27;Buffet&#x27;,\n",
       "                                                                              &#x27;Meal&#x27;,\n",
       "                                                                              &#x27;Snack&#x27;,\n",
       "                                                                              &#x27;Drinks&#x27;],\n",
       "                                                                             [&#x27;bicycle&#x27;,\n",
       "                                                                              &#x27;electric_scooter&#x27;,\n",
       "                                                                              &#x27;scooter&#x27;,\n",
       "                                                                              &#x27;motorcycle&#x27;],\n",
       "                                                                             [&#x27;Yes&#x27;,\n",
       "                                                                              &#x27;No&#x27;],\n",
       "                                                                             [&#x27;Metropolitian&#x27;,\n",
       "                                                                              &#x27;Semi-Urban&#x27;,\n",
       "                                                                              &#x27;Urban&#x27;]])),\n",
       "                                                 (&#x27;scaler&#x27;, StandardScaler())]),\n",
       "                                 [&#x27;Weather_conditions&#x27;, &#x27;Road_traffic_density&#x27;,\n",
       "                                  &#x27;Type_of_order&#x27;, &#x27;Type_of_vehicle&#x27;,\n",
       "                                  &#x27;Festival&#x27;, &#x27;City&#x27;])])</pre><b>In a Jupyter environment, please rerun this cell to show the HTML representation or trust the notebook. <br />On GitHub, the HTML representation is unable to render, please try loading this page with nbviewer.org.</b></div><div class=\"sk-container\" hidden><div class=\"sk-item sk-dashed-wrapped\"><div class=\"sk-label-container\"><div class=\"sk-label sk-toggleable\"><input class=\"sk-toggleable__control sk-hidden--visually\" id=\"sk-estimator-id-1\" type=\"checkbox\" ><label for=\"sk-estimator-id-1\" class=\"sk-toggleable__label sk-toggleable__label-arrow\">ColumnTransformer</label><div class=\"sk-toggleable__content\"><pre>ColumnTransformer(transformers=[(&#x27;num_pipeline&#x27;,\n",
       "                                 Pipeline(steps=[(&#x27;scaler&#x27;, StandardScaler())]),\n",
       "                                 [&#x27;Delivery_person_Age&#x27;,\n",
       "                                  &#x27;Delivery_person_Ratings&#x27;,\n",
       "                                  &#x27;Delivery_distance(Km)&#x27;,\n",
       "                                  &#x27;Time_Ordered(in mins)&#x27;,\n",
       "                                  &#x27;Time_order_picked(in mins)&#x27;,\n",
       "                                  &#x27;Time_diff(order-picked)(in mins)&#x27;,\n",
       "                                  &#x27;Vehicle_condition&#x27;, &#x27;multiple_deliveries&#x27;,\n",
       "                                  &#x27;Order_Date(year)&#x27;, &#x27;Order_Date(month)&#x27;,\n",
       "                                  &#x27;Order_Date(day)&#x27;...\n",
       "                                                  OrdinalEncoder(categories=[[&#x27;Sandstorms&#x27;,\n",
       "                                                                              &#x27;Windy&#x27;,\n",
       "                                                                              &#x27;Fog&#x27;,\n",
       "                                                                              &#x27;Stormy&#x27;,\n",
       "                                                                              &#x27;Cloudy&#x27;,\n",
       "                                                                              &#x27;Sunny&#x27;],\n",
       "                                                                             [&#x27;Jam&#x27;,\n",
       "                                                                              &#x27;High&#x27;,\n",
       "                                                                              &#x27;Medium&#x27;,\n",
       "                                                                              &#x27;Low&#x27;],\n",
       "                                                                             [&#x27;Buffet&#x27;,\n",
       "                                                                              &#x27;Meal&#x27;,\n",
       "                                                                              &#x27;Snack&#x27;,\n",
       "                                                                              &#x27;Drinks&#x27;],\n",
       "                                                                             [&#x27;bicycle&#x27;,\n",
       "                                                                              &#x27;electric_scooter&#x27;,\n",
       "                                                                              &#x27;scooter&#x27;,\n",
       "                                                                              &#x27;motorcycle&#x27;],\n",
       "                                                                             [&#x27;Yes&#x27;,\n",
       "                                                                              &#x27;No&#x27;],\n",
       "                                                                             [&#x27;Metropolitian&#x27;,\n",
       "                                                                              &#x27;Semi-Urban&#x27;,\n",
       "                                                                              &#x27;Urban&#x27;]])),\n",
       "                                                 (&#x27;scaler&#x27;, StandardScaler())]),\n",
       "                                 [&#x27;Weather_conditions&#x27;, &#x27;Road_traffic_density&#x27;,\n",
       "                                  &#x27;Type_of_order&#x27;, &#x27;Type_of_vehicle&#x27;,\n",
       "                                  &#x27;Festival&#x27;, &#x27;City&#x27;])])</pre></div></div></div><div class=\"sk-parallel\"><div class=\"sk-parallel-item\"><div class=\"sk-item\"><div class=\"sk-label-container\"><div class=\"sk-label sk-toggleable\"><input class=\"sk-toggleable__control sk-hidden--visually\" id=\"sk-estimator-id-2\" type=\"checkbox\" ><label for=\"sk-estimator-id-2\" class=\"sk-toggleable__label sk-toggleable__label-arrow\">num_pipeline</label><div class=\"sk-toggleable__content\"><pre>[&#x27;Delivery_person_Age&#x27;, &#x27;Delivery_person_Ratings&#x27;, &#x27;Delivery_distance(Km)&#x27;, &#x27;Time_Ordered(in mins)&#x27;, &#x27;Time_order_picked(in mins)&#x27;, &#x27;Time_diff(order-picked)(in mins)&#x27;, &#x27;Vehicle_condition&#x27;, &#x27;multiple_deliveries&#x27;, &#x27;Order_Date(year)&#x27;, &#x27;Order_Date(month)&#x27;, &#x27;Order_Date(day)&#x27;]</pre></div></div></div><div class=\"sk-serial\"><div class=\"sk-item\"><div class=\"sk-serial\"><div class=\"sk-item\"><div class=\"sk-estimator sk-toggleable\"><input class=\"sk-toggleable__control sk-hidden--visually\" id=\"sk-estimator-id-3\" type=\"checkbox\" ><label for=\"sk-estimator-id-3\" class=\"sk-toggleable__label sk-toggleable__label-arrow\">StandardScaler</label><div class=\"sk-toggleable__content\"><pre>StandardScaler()</pre></div></div></div></div></div></div></div></div><div class=\"sk-parallel-item\"><div class=\"sk-item\"><div class=\"sk-label-container\"><div class=\"sk-label sk-toggleable\"><input class=\"sk-toggleable__control sk-hidden--visually\" id=\"sk-estimator-id-4\" type=\"checkbox\" ><label for=\"sk-estimator-id-4\" class=\"sk-toggleable__label sk-toggleable__label-arrow\">cat_pipeline</label><div class=\"sk-toggleable__content\"><pre>[&#x27;Weather_conditions&#x27;, &#x27;Road_traffic_density&#x27;, &#x27;Type_of_order&#x27;, &#x27;Type_of_vehicle&#x27;, &#x27;Festival&#x27;, &#x27;City&#x27;]</pre></div></div></div><div class=\"sk-serial\"><div class=\"sk-item\"><div class=\"sk-serial\"><div class=\"sk-item\"><div class=\"sk-estimator sk-toggleable\"><input class=\"sk-toggleable__control sk-hidden--visually\" id=\"sk-estimator-id-5\" type=\"checkbox\" ><label for=\"sk-estimator-id-5\" class=\"sk-toggleable__label sk-toggleable__label-arrow\">SimpleImputer</label><div class=\"sk-toggleable__content\"><pre>SimpleImputer(strategy=&#x27;most_frequent&#x27;)</pre></div></div></div><div class=\"sk-item\"><div class=\"sk-estimator sk-toggleable\"><input class=\"sk-toggleable__control sk-hidden--visually\" id=\"sk-estimator-id-6\" type=\"checkbox\" ><label for=\"sk-estimator-id-6\" class=\"sk-toggleable__label sk-toggleable__label-arrow\">OrdinalEncoder</label><div class=\"sk-toggleable__content\"><pre>OrdinalEncoder(categories=[[&#x27;Sandstorms&#x27;, &#x27;Windy&#x27;, &#x27;Fog&#x27;, &#x27;Stormy&#x27;, &#x27;Cloudy&#x27;,\n",
       "                            &#x27;Sunny&#x27;],\n",
       "                           [&#x27;Jam&#x27;, &#x27;High&#x27;, &#x27;Medium&#x27;, &#x27;Low&#x27;],\n",
       "                           [&#x27;Buffet&#x27;, &#x27;Meal&#x27;, &#x27;Snack&#x27;, &#x27;Drinks&#x27;],\n",
       "                           [&#x27;bicycle&#x27;, &#x27;electric_scooter&#x27;, &#x27;scooter&#x27;,\n",
       "                            &#x27;motorcycle&#x27;],\n",
       "                           [&#x27;Yes&#x27;, &#x27;No&#x27;],\n",
       "                           [&#x27;Metropolitian&#x27;, &#x27;Semi-Urban&#x27;, &#x27;Urban&#x27;]])</pre></div></div></div><div class=\"sk-item\"><div class=\"sk-estimator sk-toggleable\"><input class=\"sk-toggleable__control sk-hidden--visually\" id=\"sk-estimator-id-7\" type=\"checkbox\" ><label for=\"sk-estimator-id-7\" class=\"sk-toggleable__label sk-toggleable__label-arrow\">StandardScaler</label><div class=\"sk-toggleable__content\"><pre>StandardScaler()</pre></div></div></div></div></div></div></div></div></div></div></div></div>"
      ],
      "text/plain": [
       "ColumnTransformer(transformers=[('num_pipeline',\n",
       "                                 Pipeline(steps=[('scaler', StandardScaler())]),\n",
       "                                 ['Delivery_person_Age',\n",
       "                                  'Delivery_person_Ratings',\n",
       "                                  'Delivery_distance(Km)',\n",
       "                                  'Time_Ordered(in mins)',\n",
       "                                  'Time_order_picked(in mins)',\n",
       "                                  'Time_diff(order-picked)(in mins)',\n",
       "                                  'Vehicle_condition', 'multiple_deliveries',\n",
       "                                  'Order_Date(year)', 'Order_Date(month)',\n",
       "                                  'Order_Date(day)'...\n",
       "                                                  OrdinalEncoder(categories=[['Sandstorms',\n",
       "                                                                              'Windy',\n",
       "                                                                              'Fog',\n",
       "                                                                              'Stormy',\n",
       "                                                                              'Cloudy',\n",
       "                                                                              'Sunny'],\n",
       "                                                                             ['Jam',\n",
       "                                                                              'High',\n",
       "                                                                              'Medium',\n",
       "                                                                              'Low'],\n",
       "                                                                             ['Buffet',\n",
       "                                                                              'Meal',\n",
       "                                                                              'Snack',\n",
       "                                                                              'Drinks'],\n",
       "                                                                             ['bicycle',\n",
       "                                                                              'electric_scooter',\n",
       "                                                                              'scooter',\n",
       "                                                                              'motorcycle'],\n",
       "                                                                             ['Yes',\n",
       "                                                                              'No'],\n",
       "                                                                             ['Metropolitian',\n",
       "                                                                              'Semi-Urban',\n",
       "                                                                              'Urban']])),\n",
       "                                                 ('scaler', StandardScaler())]),\n",
       "                                 ['Weather_conditions', 'Road_traffic_density',\n",
       "                                  'Type_of_order', 'Type_of_vehicle',\n",
       "                                  'Festival', 'City'])])"
      ]
     },
     "execution_count": 19,
     "metadata": {},
     "output_type": "execute_result"
    }
   ],
   "source": [
    "preprocessor"
   ]
  },
  {
   "cell_type": "code",
   "execution_count": 54,
   "metadata": {},
   "outputs": [],
   "source": [
    "#Train test split\n",
    "\n",
    "from sklearn.model_selection import train_test_split\n",
    "\n",
    "X_train,X_test,y_train,y_test=train_test_split(X,Y,test_size=0.30,random_state= 42)"
   ]
  },
  {
   "cell_type": "code",
   "execution_count": 55,
   "metadata": {},
   "outputs": [],
   "source": [
    "X_train=pd.DataFrame(preprocessor.fit_transform(X_train),columns=preprocessor.get_feature_names_out())\n",
    "X_test=pd.DataFrame(preprocessor.transform(X_test),columns=preprocessor.get_feature_names_out())"
   ]
  },
  {
   "cell_type": "code",
   "execution_count": 56,
   "metadata": {},
   "outputs": [
    {
     "data": {
      "text/html": [
       "<div>\n",
       "<style scoped>\n",
       "    .dataframe tbody tr th:only-of-type {\n",
       "        vertical-align: middle;\n",
       "    }\n",
       "\n",
       "    .dataframe tbody tr th {\n",
       "        vertical-align: top;\n",
       "    }\n",
       "\n",
       "    .dataframe thead th {\n",
       "        text-align: right;\n",
       "    }\n",
       "</style>\n",
       "<table border=\"1\" class=\"dataframe\">\n",
       "  <thead>\n",
       "    <tr style=\"text-align: right;\">\n",
       "      <th></th>\n",
       "      <th>num_pipeline__Delivery_person_Age</th>\n",
       "      <th>num_pipeline__Delivery_person_Ratings</th>\n",
       "      <th>num_pipeline__Delivery_distance(Km)</th>\n",
       "      <th>num_pipeline__Time_diff(order-picked)(in mins)</th>\n",
       "      <th>num_pipeline__Vehicle_condition</th>\n",
       "      <th>num_pipeline__multiple_deliveries</th>\n",
       "      <th>cat_pipeline__Weather_conditions</th>\n",
       "      <th>cat_pipeline__Road_traffic_density</th>\n",
       "      <th>cat_pipeline__Type_of_order</th>\n",
       "      <th>cat_pipeline__Type_of_vehicle</th>\n",
       "      <th>cat_pipeline__Festival</th>\n",
       "      <th>cat_pipeline__City</th>\n",
       "    </tr>\n",
       "  </thead>\n",
       "  <tbody>\n",
       "    <tr>\n",
       "      <th>0</th>\n",
       "      <td>0.954495</td>\n",
       "      <td>-0.108398</td>\n",
       "      <td>-0.079566</td>\n",
       "      <td>-0.168045</td>\n",
       "      <td>-0.028178</td>\n",
       "      <td>0.447535</td>\n",
       "      <td>-0.879711</td>\n",
       "      <td>0.293488</td>\n",
       "      <td>1.345195</td>\n",
       "      <td>-0.754863</td>\n",
       "      <td>0.141231</td>\n",
       "      <td>-0.541409</td>\n",
       "    </tr>\n",
       "    <tr>\n",
       "      <th>1</th>\n",
       "      <td>1.480327</td>\n",
       "      <td>0.194710</td>\n",
       "      <td>-0.084074</td>\n",
       "      <td>-0.191361</td>\n",
       "      <td>1.165832</td>\n",
       "      <td>0.447535</td>\n",
       "      <td>-1.472665</td>\n",
       "      <td>-0.507865</td>\n",
       "      <td>-1.343959</td>\n",
       "      <td>0.777238</td>\n",
       "      <td>0.141231</td>\n",
       "      <td>-0.541409</td>\n",
       "    </tr>\n",
       "    <tr>\n",
       "      <th>2</th>\n",
       "      <td>1.129772</td>\n",
       "      <td>0.497818</td>\n",
       "      <td>-0.071414</td>\n",
       "      <td>-0.214677</td>\n",
       "      <td>1.165832</td>\n",
       "      <td>-1.303731</td>\n",
       "      <td>0.306196</td>\n",
       "      <td>1.094840</td>\n",
       "      <td>1.345195</td>\n",
       "      <td>-2.286964</td>\n",
       "      <td>0.141231</td>\n",
       "      <td>1.856436</td>\n",
       "    </tr>\n",
       "    <tr>\n",
       "      <th>3</th>\n",
       "      <td>-0.447724</td>\n",
       "      <td>1.104034</td>\n",
       "      <td>-0.084062</td>\n",
       "      <td>-0.214677</td>\n",
       "      <td>1.165832</td>\n",
       "      <td>-1.303731</td>\n",
       "      <td>0.306196</td>\n",
       "      <td>0.293488</td>\n",
       "      <td>1.345195</td>\n",
       "      <td>0.777238</td>\n",
       "      <td>0.141231</td>\n",
       "      <td>-0.541409</td>\n",
       "    </tr>\n",
       "    <tr>\n",
       "      <th>4</th>\n",
       "      <td>1.480327</td>\n",
       "      <td>0.194710</td>\n",
       "      <td>-0.077182</td>\n",
       "      <td>-0.214677</td>\n",
       "      <td>-1.222187</td>\n",
       "      <td>0.447535</td>\n",
       "      <td>0.899149</td>\n",
       "      <td>-1.309217</td>\n",
       "      <td>0.448810</td>\n",
       "      <td>0.777238</td>\n",
       "      <td>0.141231</td>\n",
       "      <td>-0.541409</td>\n",
       "    </tr>\n",
       "  </tbody>\n",
       "</table>\n",
       "</div>"
      ],
      "text/plain": [
       "   num_pipeline__Delivery_person_Age  num_pipeline__Delivery_person_Ratings   \n",
       "0                           0.954495                              -0.108398  \\\n",
       "1                           1.480327                               0.194710   \n",
       "2                           1.129772                               0.497818   \n",
       "3                          -0.447724                               1.104034   \n",
       "4                           1.480327                               0.194710   \n",
       "\n",
       "   num_pipeline__Delivery_distance(Km)   \n",
       "0                            -0.079566  \\\n",
       "1                            -0.084074   \n",
       "2                            -0.071414   \n",
       "3                            -0.084062   \n",
       "4                            -0.077182   \n",
       "\n",
       "   num_pipeline__Time_diff(order-picked)(in mins)   \n",
       "0                                       -0.168045  \\\n",
       "1                                       -0.191361   \n",
       "2                                       -0.214677   \n",
       "3                                       -0.214677   \n",
       "4                                       -0.214677   \n",
       "\n",
       "   num_pipeline__Vehicle_condition  num_pipeline__multiple_deliveries   \n",
       "0                        -0.028178                           0.447535  \\\n",
       "1                         1.165832                           0.447535   \n",
       "2                         1.165832                          -1.303731   \n",
       "3                         1.165832                          -1.303731   \n",
       "4                        -1.222187                           0.447535   \n",
       "\n",
       "   cat_pipeline__Weather_conditions  cat_pipeline__Road_traffic_density   \n",
       "0                         -0.879711                            0.293488  \\\n",
       "1                         -1.472665                           -0.507865   \n",
       "2                          0.306196                            1.094840   \n",
       "3                          0.306196                            0.293488   \n",
       "4                          0.899149                           -1.309217   \n",
       "\n",
       "   cat_pipeline__Type_of_order  cat_pipeline__Type_of_vehicle   \n",
       "0                     1.345195                      -0.754863  \\\n",
       "1                    -1.343959                       0.777238   \n",
       "2                     1.345195                      -2.286964   \n",
       "3                     1.345195                       0.777238   \n",
       "4                     0.448810                       0.777238   \n",
       "\n",
       "   cat_pipeline__Festival  cat_pipeline__City  \n",
       "0                0.141231           -0.541409  \n",
       "1                0.141231           -0.541409  \n",
       "2                0.141231            1.856436  \n",
       "3                0.141231           -0.541409  \n",
       "4                0.141231           -0.541409  "
      ]
     },
     "execution_count": 56,
     "metadata": {},
     "output_type": "execute_result"
    }
   ],
   "source": [
    "X_train.head()"
   ]
  },
  {
   "cell_type": "code",
   "execution_count": 57,
   "metadata": {},
   "outputs": [
    {
     "data": {
      "text/plain": [
       "num_pipeline__Delivery_person_Age                   0\n",
       "num_pipeline__Delivery_person_Ratings               0\n",
       "num_pipeline__Delivery_distance(Km)                 0\n",
       "num_pipeline__Time_diff(order-picked)(in mins)      0\n",
       "num_pipeline__Vehicle_condition                     0\n",
       "num_pipeline__multiple_deliveries                 689\n",
       "cat_pipeline__Weather_conditions                    0\n",
       "cat_pipeline__Road_traffic_density                  0\n",
       "cat_pipeline__Type_of_order                         0\n",
       "cat_pipeline__Type_of_vehicle                       0\n",
       "cat_pipeline__Festival                              0\n",
       "cat_pipeline__City                                  0\n",
       "dtype: int64"
      ]
     },
     "execution_count": 57,
     "metadata": {},
     "output_type": "execute_result"
    }
   ],
   "source": [
    "X_train.isnull().sum()"
   ]
  },
  {
   "cell_type": "code",
   "execution_count": 20,
   "metadata": {},
   "outputs": [
    {
     "data": {
      "text/html": [
       "<div>\n",
       "<style scoped>\n",
       "    .dataframe tbody tr th:only-of-type {\n",
       "        vertical-align: middle;\n",
       "    }\n",
       "\n",
       "    .dataframe tbody tr th {\n",
       "        vertical-align: top;\n",
       "    }\n",
       "\n",
       "    .dataframe thead th {\n",
       "        text-align: right;\n",
       "    }\n",
       "</style>\n",
       "<table border=\"1\" class=\"dataframe\">\n",
       "  <thead>\n",
       "    <tr style=\"text-align: right;\">\n",
       "      <th></th>\n",
       "      <th>num_pipeline__Delivery_person_Age</th>\n",
       "      <th>num_pipeline__Delivery_person_Ratings</th>\n",
       "      <th>num_pipeline__Delivery_distance(Km)</th>\n",
       "      <th>num_pipeline__Time_Ordered(in mins)</th>\n",
       "      <th>num_pipeline__Time_order_picked(in mins)</th>\n",
       "      <th>num_pipeline__Time_diff(order-picked)(in mins)</th>\n",
       "      <th>num_pipeline__Vehicle_condition</th>\n",
       "      <th>num_pipeline__multiple_deliveries</th>\n",
       "      <th>num_pipeline__Order_Date(year)</th>\n",
       "      <th>num_pipeline__Order_Date(month)</th>\n",
       "      <th>num_pipeline__Order_Date(day)</th>\n",
       "      <th>cat_pipeline__Weather_conditions</th>\n",
       "      <th>cat_pipeline__Road_traffic_density</th>\n",
       "      <th>cat_pipeline__Type_of_order</th>\n",
       "      <th>cat_pipeline__Type_of_vehicle</th>\n",
       "      <th>cat_pipeline__Festival</th>\n",
       "      <th>cat_pipeline__City</th>\n",
       "    </tr>\n",
       "  </thead>\n",
       "  <tbody>\n",
       "    <tr>\n",
       "      <th>0</th>\n",
       "      <td>0.428663</td>\n",
       "      <td>-1.623938</td>\n",
       "      <td>-0.082753</td>\n",
       "      <td>-0.038161</td>\n",
       "      <td>-0.179716</td>\n",
       "      <td>-0.168045</td>\n",
       "      <td>-1.222187</td>\n",
       "      <td>0.447535</td>\n",
       "      <td>0.0</td>\n",
       "      <td>-1.791606</td>\n",
       "      <td>-0.089378</td>\n",
       "      <td>-1.472665</td>\n",
       "      <td>0.293488</td>\n",
       "      <td>0.448810</td>\n",
       "      <td>0.777238</td>\n",
       "      <td>0.141231</td>\n",
       "      <td>-0.541409</td>\n",
       "    </tr>\n",
       "    <tr>\n",
       "      <th>1</th>\n",
       "      <td>0.428663</td>\n",
       "      <td>0.800926</td>\n",
       "      <td>-0.088149</td>\n",
       "      <td>-1.577466</td>\n",
       "      <td>-2.108078</td>\n",
       "      <td>-0.191361</td>\n",
       "      <td>-0.028178</td>\n",
       "      <td>0.447535</td>\n",
       "      <td>0.0</td>\n",
       "      <td>0.035210</td>\n",
       "      <td>-1.236315</td>\n",
       "      <td>-0.879711</td>\n",
       "      <td>1.094840</td>\n",
       "      <td>0.448810</td>\n",
       "      <td>0.777238</td>\n",
       "      <td>0.141231</td>\n",
       "      <td>-0.541409</td>\n",
       "    </tr>\n",
       "    <tr>\n",
       "      <th>2</th>\n",
       "      <td>-1.148834</td>\n",
       "      <td>-0.411506</td>\n",
       "      <td>-0.079566</td>\n",
       "      <td>0.775894</td>\n",
       "      <td>0.830378</td>\n",
       "      <td>-0.168045</td>\n",
       "      <td>1.165832</td>\n",
       "      <td>0.447535</td>\n",
       "      <td>0.0</td>\n",
       "      <td>-1.791606</td>\n",
       "      <td>0.025316</td>\n",
       "      <td>1.492103</td>\n",
       "      <td>-1.309217</td>\n",
       "      <td>0.448810</td>\n",
       "      <td>-0.754863</td>\n",
       "      <td>0.141231</td>\n",
       "      <td>-0.541409</td>\n",
       "    </tr>\n",
       "    <tr>\n",
       "      <th>3</th>\n",
       "      <td>-1.324111</td>\n",
       "      <td>-0.411506</td>\n",
       "      <td>-0.085499</td>\n",
       "      <td>0.938705</td>\n",
       "      <td>0.995666</td>\n",
       "      <td>-0.214677</td>\n",
       "      <td>-1.222187</td>\n",
       "      <td>0.447535</td>\n",
       "      <td>0.0</td>\n",
       "      <td>0.035210</td>\n",
       "      <td>-0.089378</td>\n",
       "      <td>0.306196</td>\n",
       "      <td>1.094840</td>\n",
       "      <td>0.448810</td>\n",
       "      <td>0.777238</td>\n",
       "      <td>0.141231</td>\n",
       "      <td>-0.541409</td>\n",
       "    </tr>\n",
       "    <tr>\n",
       "      <th>4</th>\n",
       "      <td>-0.097169</td>\n",
       "      <td>0.800926</td>\n",
       "      <td>-0.071209</td>\n",
       "      <td>0.687088</td>\n",
       "      <td>0.720186</td>\n",
       "      <td>-0.168045</td>\n",
       "      <td>-1.222187</td>\n",
       "      <td>0.447535</td>\n",
       "      <td>0.0</td>\n",
       "      <td>0.035210</td>\n",
       "      <td>0.025316</td>\n",
       "      <td>0.899149</td>\n",
       "      <td>-1.309217</td>\n",
       "      <td>1.345195</td>\n",
       "      <td>0.777238</td>\n",
       "      <td>0.141231</td>\n",
       "      <td>-0.541409</td>\n",
       "    </tr>\n",
       "  </tbody>\n",
       "</table>\n",
       "</div>"
      ],
      "text/plain": [
       "   num_pipeline__Delivery_person_Age  num_pipeline__Delivery_person_Ratings   \n",
       "0                           0.428663                              -1.623938  \\\n",
       "1                           0.428663                               0.800926   \n",
       "2                          -1.148834                              -0.411506   \n",
       "3                          -1.324111                              -0.411506   \n",
       "4                          -0.097169                               0.800926   \n",
       "\n",
       "   num_pipeline__Delivery_distance(Km)  num_pipeline__Time_Ordered(in mins)   \n",
       "0                            -0.082753                            -0.038161  \\\n",
       "1                            -0.088149                            -1.577466   \n",
       "2                            -0.079566                             0.775894   \n",
       "3                            -0.085499                             0.938705   \n",
       "4                            -0.071209                             0.687088   \n",
       "\n",
       "   num_pipeline__Time_order_picked(in mins)   \n",
       "0                                 -0.179716  \\\n",
       "1                                 -2.108078   \n",
       "2                                  0.830378   \n",
       "3                                  0.995666   \n",
       "4                                  0.720186   \n",
       "\n",
       "   num_pipeline__Time_diff(order-picked)(in mins)   \n",
       "0                                       -0.168045  \\\n",
       "1                                       -0.191361   \n",
       "2                                       -0.168045   \n",
       "3                                       -0.214677   \n",
       "4                                       -0.168045   \n",
       "\n",
       "   num_pipeline__Vehicle_condition  num_pipeline__multiple_deliveries   \n",
       "0                        -1.222187                           0.447535  \\\n",
       "1                        -0.028178                           0.447535   \n",
       "2                         1.165832                           0.447535   \n",
       "3                        -1.222187                           0.447535   \n",
       "4                        -1.222187                           0.447535   \n",
       "\n",
       "   num_pipeline__Order_Date(year)  num_pipeline__Order_Date(month)   \n",
       "0                             0.0                        -1.791606  \\\n",
       "1                             0.0                         0.035210   \n",
       "2                             0.0                        -1.791606   \n",
       "3                             0.0                         0.035210   \n",
       "4                             0.0                         0.035210   \n",
       "\n",
       "   num_pipeline__Order_Date(day)  cat_pipeline__Weather_conditions   \n",
       "0                      -0.089378                         -1.472665  \\\n",
       "1                      -1.236315                         -0.879711   \n",
       "2                       0.025316                          1.492103   \n",
       "3                      -0.089378                          0.306196   \n",
       "4                       0.025316                          0.899149   \n",
       "\n",
       "   cat_pipeline__Road_traffic_density  cat_pipeline__Type_of_order   \n",
       "0                            0.293488                     0.448810  \\\n",
       "1                            1.094840                     0.448810   \n",
       "2                           -1.309217                     0.448810   \n",
       "3                            1.094840                     0.448810   \n",
       "4                           -1.309217                     1.345195   \n",
       "\n",
       "   cat_pipeline__Type_of_vehicle  cat_pipeline__Festival  cat_pipeline__City  \n",
       "0                       0.777238                0.141231           -0.541409  \n",
       "1                       0.777238                0.141231           -0.541409  \n",
       "2                      -0.754863                0.141231           -0.541409  \n",
       "3                       0.777238                0.141231           -0.541409  \n",
       "4                       0.777238                0.141231           -0.541409  "
      ]
     },
     "execution_count": 20,
     "metadata": {},
     "output_type": "execute_result"
    }
   ],
   "source": [
    "X_test.head()"
   ]
  },
  {
   "cell_type": "code",
   "execution_count": 27,
   "metadata": {},
   "outputs": [
    {
     "data": {
      "text/plain": [
       "num_pipeline__Delivery_person_Age                 0\n",
       "num_pipeline__Delivery_person_Ratings             0\n",
       "num_pipeline__Delivery_distance(Km)               0\n",
       "num_pipeline__Time_Ordered(in mins)               0\n",
       "num_pipeline__Time_order_picked(in mins)          0\n",
       "num_pipeline__Time_diff(order-picked)(in mins)    0\n",
       "num_pipeline__Vehicle_condition                   0\n",
       "num_pipeline__multiple_deliveries                 0\n",
       "num_pipeline__Order_Date(year)                    0\n",
       "num_pipeline__Order_Date(month)                   0\n",
       "num_pipeline__Order_Date(day)                     0\n",
       "cat_pipeline__Weather_conditions                  0\n",
       "cat_pipeline__Road_traffic_density                0\n",
       "cat_pipeline__Type_of_order                       0\n",
       "cat_pipeline__Type_of_vehicle                     0\n",
       "cat_pipeline__Festival                            0\n",
       "cat_pipeline__City                                0\n",
       "dtype: int64"
      ]
     },
     "execution_count": 27,
     "metadata": {},
     "output_type": "execute_result"
    }
   ],
   "source": [
    "X_test.isnull().sum()"
   ]
  },
  {
   "cell_type": "code",
   "execution_count": 58,
   "metadata": {},
   "outputs": [],
   "source": [
    "X_test['num_pipeline__multiple_deliveries']=X_test['num_pipeline__multiple_deliveries'].replace(np.nan,0)"
   ]
  },
  {
   "cell_type": "code",
   "execution_count": 60,
   "metadata": {},
   "outputs": [],
   "source": [
    "X_train['num_pipeline__multiple_deliveries']=X_train['num_pipeline__multiple_deliveries'].replace(np.nan,0)"
   ]
  },
  {
   "cell_type": "code",
   "execution_count": 61,
   "metadata": {},
   "outputs": [],
   "source": [
    "import numpy as np \n",
    "from sklearn.linear_model import LinearRegression, Lasso, Ridge, ElasticNet\n",
    "from sklearn.metrics import r2_score,mean_squared_error,mean_absolute_error"
   ]
  },
  {
   "cell_type": "code",
   "execution_count": 62,
   "metadata": {},
   "outputs": [
    {
     "data": {
      "text/html": [
       "<style>#sk-container-id-3 {color: black;background-color: white;}#sk-container-id-3 pre{padding: 0;}#sk-container-id-3 div.sk-toggleable {background-color: white;}#sk-container-id-3 label.sk-toggleable__label {cursor: pointer;display: block;width: 100%;margin-bottom: 0;padding: 0.3em;box-sizing: border-box;text-align: center;}#sk-container-id-3 label.sk-toggleable__label-arrow:before {content: \"▸\";float: left;margin-right: 0.25em;color: #696969;}#sk-container-id-3 label.sk-toggleable__label-arrow:hover:before {color: black;}#sk-container-id-3 div.sk-estimator:hover label.sk-toggleable__label-arrow:before {color: black;}#sk-container-id-3 div.sk-toggleable__content {max-height: 0;max-width: 0;overflow: hidden;text-align: left;background-color: #f0f8ff;}#sk-container-id-3 div.sk-toggleable__content pre {margin: 0.2em;color: black;border-radius: 0.25em;background-color: #f0f8ff;}#sk-container-id-3 input.sk-toggleable__control:checked~div.sk-toggleable__content {max-height: 200px;max-width: 100%;overflow: auto;}#sk-container-id-3 input.sk-toggleable__control:checked~label.sk-toggleable__label-arrow:before {content: \"▾\";}#sk-container-id-3 div.sk-estimator input.sk-toggleable__control:checked~label.sk-toggleable__label {background-color: #d4ebff;}#sk-container-id-3 div.sk-label input.sk-toggleable__control:checked~label.sk-toggleable__label {background-color: #d4ebff;}#sk-container-id-3 input.sk-hidden--visually {border: 0;clip: rect(1px 1px 1px 1px);clip: rect(1px, 1px, 1px, 1px);height: 1px;margin: -1px;overflow: hidden;padding: 0;position: absolute;width: 1px;}#sk-container-id-3 div.sk-estimator {font-family: monospace;background-color: #f0f8ff;border: 1px dotted black;border-radius: 0.25em;box-sizing: border-box;margin-bottom: 0.5em;}#sk-container-id-3 div.sk-estimator:hover {background-color: #d4ebff;}#sk-container-id-3 div.sk-parallel-item::after {content: \"\";width: 100%;border-bottom: 1px solid gray;flex-grow: 1;}#sk-container-id-3 div.sk-label:hover label.sk-toggleable__label {background-color: #d4ebff;}#sk-container-id-3 div.sk-serial::before {content: \"\";position: absolute;border-left: 1px solid gray;box-sizing: border-box;top: 0;bottom: 0;left: 50%;z-index: 0;}#sk-container-id-3 div.sk-serial {display: flex;flex-direction: column;align-items: center;background-color: white;padding-right: 0.2em;padding-left: 0.2em;position: relative;}#sk-container-id-3 div.sk-item {position: relative;z-index: 1;}#sk-container-id-3 div.sk-parallel {display: flex;align-items: stretch;justify-content: center;background-color: white;position: relative;}#sk-container-id-3 div.sk-item::before, #sk-container-id-3 div.sk-parallel-item::before {content: \"\";position: absolute;border-left: 1px solid gray;box-sizing: border-box;top: 0;bottom: 0;left: 50%;z-index: -1;}#sk-container-id-3 div.sk-parallel-item {display: flex;flex-direction: column;z-index: 1;position: relative;background-color: white;}#sk-container-id-3 div.sk-parallel-item:first-child::after {align-self: flex-end;width: 50%;}#sk-container-id-3 div.sk-parallel-item:last-child::after {align-self: flex-start;width: 50%;}#sk-container-id-3 div.sk-parallel-item:only-child::after {width: 0;}#sk-container-id-3 div.sk-dashed-wrapped {border: 1px dashed gray;margin: 0 0.4em 0.5em 0.4em;box-sizing: border-box;padding-bottom: 0.4em;background-color: white;}#sk-container-id-3 div.sk-label label {font-family: monospace;font-weight: bold;display: inline-block;line-height: 1.2em;}#sk-container-id-3 div.sk-label-container {text-align: center;}#sk-container-id-3 div.sk-container {/* jupyter's `normalize.less` sets `[hidden] { display: none; }` but bootstrap.min.css set `[hidden] { display: none !important; }` so we also need the `!important` here to be able to override the default hidden behavior on the sphinx rendered scikit-learn.org. See: https://github.com/scikit-learn/scikit-learn/issues/21755 */display: inline-block !important;position: relative;}#sk-container-id-3 div.sk-text-repr-fallback {display: none;}</style><div id=\"sk-container-id-3\" class=\"sk-top-container\"><div class=\"sk-text-repr-fallback\"><pre>LinearRegression()</pre><b>In a Jupyter environment, please rerun this cell to show the HTML representation or trust the notebook. <br />On GitHub, the HTML representation is unable to render, please try loading this page with nbviewer.org.</b></div><div class=\"sk-container\" hidden><div class=\"sk-item\"><div class=\"sk-estimator sk-toggleable\"><input class=\"sk-toggleable__control sk-hidden--visually\" id=\"sk-estimator-id-9\" type=\"checkbox\" checked><label for=\"sk-estimator-id-9\" class=\"sk-toggleable__label sk-toggleable__label-arrow\">LinearRegression</label><div class=\"sk-toggleable__content\"><pre>LinearRegression()</pre></div></div></div></div></div>"
      ],
      "text/plain": [
       "LinearRegression()"
      ]
     },
     "execution_count": 62,
     "metadata": {},
     "output_type": "execute_result"
    }
   ],
   "source": [
    "regressor=LinearRegression()\n",
    "regressor.fit(X_train,y_train)"
   ]
  },
  {
   "cell_type": "code",
   "execution_count": 63,
   "metadata": {},
   "outputs": [
    {
     "data": {
      "text/plain": [
       "array([[ 2.15965703, -2.27609364,  0.08996076,  0.44169857, -1.75251831,\n",
       "         2.11407976, -0.57618804, -3.16910043, -0.01694298,  0.04865206,\n",
       "        -1.63457506, -0.95626298]])"
      ]
     },
     "execution_count": 63,
     "metadata": {},
     "output_type": "execute_result"
    }
   ],
   "source": [
    "regressor.coef_"
   ]
  },
  {
   "cell_type": "code",
   "execution_count": 64,
   "metadata": {},
   "outputs": [
    {
     "data": {
      "text/plain": [
       "array([26.28936317])"
      ]
     },
     "execution_count": 64,
     "metadata": {},
     "output_type": "execute_result"
    }
   ],
   "source": [
    "regressor.intercept_"
   ]
  },
  {
   "cell_type": "code",
   "execution_count": 65,
   "metadata": {},
   "outputs": [],
   "source": [
    "def evaluate_model(true,predicted):\n",
    "    mae=mean_absolute_error(true,predicted)\n",
    "    mse=mean_squared_error(true,predicted)\n",
    "    rmse=np.sqrt(mse)\n",
    "    r2_square=r2_score(true,predicted)\n",
    "    return mae,mse,rmse,r2_square"
   ]
  },
  {
   "cell_type": "code",
   "execution_count": 66,
   "metadata": {},
   "outputs": [
    {
     "name": "stdout",
     "output_type": "stream",
     "text": [
      "Linearregression\n",
      "model Training performaces\n",
      "RMSE: 6.723163236137241\n",
      "MSE: 45.20092389974738\n",
      "MAE: 5.325749870422047\n",
      "R2 square: 49.400984701359086\n",
      "===================================\n",
      "\n",
      "\n",
      "Lasso\n",
      "model Training performaces\n",
      "RMSE: 7.144825678116568\n",
      "MSE: 51.04853397067388\n",
      "MAE: 5.717731831519156\n",
      "R2 square: 42.855027541378334\n",
      "===================================\n",
      "\n",
      "\n",
      "Ridge\n",
      "model Training performaces\n",
      "RMSE: 6.72316480967383\n",
      "MSE: 45.200945058036545\n",
      "MAE: 5.325753345490667\n",
      "R2 square: 49.40096101625478\n",
      "===================================\n",
      "\n",
      "\n",
      "Elastic\n",
      "model Training performaces\n",
      "RMSE: 7.236716625914483\n",
      "MSE: 52.3700675237871\n",
      "MAE: 5.816616444437563\n",
      "R2 square: 41.37567068973627\n",
      "===================================\n",
      "\n",
      "\n"
     ]
    }
   ],
   "source": [
    "# Train multiple models\n",
    "\n",
    "models={\n",
    "    'Linearregression':LinearRegression(),\n",
    "    'Lasso':Lasso(),\n",
    "    'Ridge':Ridge(),\n",
    "    'Elastic':ElasticNet()\n",
    "\n",
    "}\n",
    "\n",
    "model_list=[]\n",
    "r2_list=[]\n",
    "\n",
    "for i in range(len(list(models))):\n",
    "    model=list(models.values())[i]\n",
    "    model.fit(X_train,y_train)\n",
    "\n",
    "    #make predictions\n",
    "    y_pred=model.predict(X_test)\n",
    "\n",
    "    mae,mse,rmse,r2_square = evaluate_model(y_test,y_pred)\n",
    "\n",
    "    print(list(models.keys())[i])\n",
    "    model_list.append(list(models.keys())[i])\n",
    "\n",
    "    print('model Training performaces')\n",
    "    print('RMSE:',rmse)\n",
    "    print(\"MSE:\",mse)\n",
    "    print(\"MAE:\",mae)\n",
    "    print(\"R2 square:\",r2_square*100)\n",
    "\n",
    "    r2_list.append(r2_square)\n",
    "\n",
    "    print('='*35)\n",
    "    print('\\n')\n",
    "\n"
   ]
  },
  {
   "cell_type": "code",
   "execution_count": 67,
   "metadata": {},
   "outputs": [
    {
     "data": {
      "text/plain": [
       "['Linearregression', 'Lasso', 'Ridge', 'Elastic']"
      ]
     },
     "execution_count": 67,
     "metadata": {},
     "output_type": "execute_result"
    }
   ],
   "source": [
    "model_list"
   ]
  },
  {
   "cell_type": "code",
   "execution_count": 68,
   "metadata": {},
   "outputs": [
    {
     "data": {
      "text/plain": [
       "[0.49400984701359085,\n",
       " 0.4285502754137833,\n",
       " 0.49400961016254785,\n",
       " 0.41375670689736266]"
      ]
     },
     "execution_count": 68,
     "metadata": {},
     "output_type": "execute_result"
    }
   ],
   "source": [
    "r2_list"
   ]
  },
  {
   "cell_type": "code",
   "execution_count": 41,
   "metadata": {},
   "outputs": [],
   "source": [
    "from sklearn.tree import DecisionTreeClassifier\n",
    "from sklearn.metrics import accuracy_score"
   ]
  }
 ],
 "metadata": {
  "kernelspec": {
   "display_name": "Python 3.8.10 64-bit",
   "language": "python",
   "name": "python3"
  },
  "language_info": {
   "codemirror_mode": {
    "name": "ipython",
    "version": 3
   },
   "file_extension": ".py",
   "mimetype": "text/x-python",
   "name": "python",
   "nbconvert_exporter": "python",
   "pygments_lexer": "ipython3",
   "version": "3.8.10"
  },
  "orig_nbformat": 4,
  "vscode": {
   "interpreter": {
    "hash": "e7370f93d1d0cde622a1f8e1c04877d8463912d04d973331ad4851f04de6915a"
   }
  }
 },
 "nbformat": 4,
 "nbformat_minor": 2
}
